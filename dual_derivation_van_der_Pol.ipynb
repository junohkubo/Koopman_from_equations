{
 "cells": [
  {
   "cell_type": "code",
   "execution_count": 1,
   "metadata": {
    "tags": []
   },
   "outputs": [],
   "source": [
    "# Give some definitions (There is no need to change the following definitions)\n",
    "import sys\n",
    "import re\n",
    "from typing import List, Dict, Union\n",
    "\n",
    "import sympy as sym\n",
    "from IPython.display import display\n",
    "from IPython.display import Math\n",
    "\n",
    "def is_num(s: str) -> bool:\n",
    "    try:\n",
    "        float(s)\n",
    "    except ValueError:\n",
    "        return False\n",
    "    else:\n",
    "        return True\n",
    "\n",
    "def set_symbol_from_text(text: str) -> List[sym.Symbol]:\n",
    "    \"\"\"Make list of sympy symbols from a text\n",
    " \n",
    "    Parameters\n",
    "    ----------\n",
    "    text : str\n",
    "        Comma separated words\n",
    "\n",
    "    Returns\n",
    "    -------\n",
    "    symbol_list : List[sym.Symbol]\n",
    "        List of replaced symbols\n",
    "\n",
    "    Examples\n",
    "    -------\n",
    "    input_variables = r'x_{1}, x_{2}'\n",
    "\n",
    "    x = set_symbol_from_text(input_variables)\n",
    "    \"\"\"\n",
    "    symbol_list = []\n",
    "    for term in re.split(',\\s*', text):\n",
    "        symbol_list.append(sym.Symbol(term))\n",
    "    return symbol_list\n",
    "\n",
    "def replace_text_with_symbol(  \n",
    "    text: str, c: List[sym.Symbol], x: List[sym.Symbol]\n",
    "    ) -> str:\n",
    "    \"\"\"Make a replaced string with defined sympy symbols\n",
    "\n",
    "    Parameters\n",
    "    ----------\n",
    "    text : str\n",
    "        original string\n",
    "    c : List[sym.Symbol]\n",
    "        List of constants (sympy symbols)\n",
    "    x: List[sym.symbol]\n",
    "        List of variables (sympy symbols)\n",
    "\n",
    "    Returns\n",
    "    -------\n",
    "    str\n",
    "        replaced string\n",
    "    \"\"\"\n",
    "    text = ' ' + text + ' '\n",
    "    for i, v in enumerate(c):\n",
    "        rep = r\"\\1c[{0}]\\2\".format(i)\n",
    "        my_regex = r\"([^a-zA-Z_0-9])\" + re.escape(sym.latex(v)) + r\"([^a-zA-Z_0-9])\"\n",
    "        while re.search(my_regex, text) != None:\n",
    "            text = re.sub(my_regex, rep, text)\n",
    "    for i, v in enumerate(x):\n",
    "        rep = r\"\\1x[{0}]\\2\".format(i)\n",
    "        my_regex = r\"([^a-zA-Z_0-9])\" + re.escape(sym.latex(v)) + r\"([^a-zA-Z_0-9])\"\n",
    "        while re.search(my_regex, text) != None:\n",
    "            text = re.sub(my_regex, rep, text)\n",
    "    t = text.strip()\n",
    "    text = t.replace(r\"{\", \"\").replace(r\"}\", \"\")\n",
    "    return text"
   ]
  },
  {
   "cell_type": "code",
   "execution_count": 2,
   "metadata": {
    "tags": []
   },
   "outputs": [
    {
     "data": {
      "text/plain": [
       "'Defined constants'"
      ]
     },
     "metadata": {},
     "output_type": "display_data"
    },
    {
     "data": {
      "text/latex": [
       "$\\displaystyle \\left[ \\epsilon, \\  \\nu_{11}, \\  \\nu_{22}\\right]$"
      ],
      "text/plain": [
       "<IPython.core.display.Math object>"
      ]
     },
     "metadata": {},
     "output_type": "display_data"
    },
    {
     "data": {
      "text/plain": [
       "'Defined variables'"
      ]
     },
     "metadata": {},
     "output_type": "display_data"
    },
    {
     "data": {
      "text/latex": [
       "$\\displaystyle \\left[ x_{1}, \\  x_{2}\\right]$"
      ],
      "text/plain": [
       "<IPython.core.display.Math object>"
      ]
     },
     "metadata": {},
     "output_type": "display_data"
    },
    {
     "data": {
      "text/plain": [
       "'Defined constants for the initial positions'"
      ]
     },
     "metadata": {},
     "output_type": "display_data"
    },
    {
     "data": {
      "text/latex": [
       "$\\displaystyle \\left[ x_{1}^{\\mathrm{c}}, \\  x_{2}^{\\mathrm{c}}\\right]$"
      ],
      "text/plain": [
       "<IPython.core.display.Math object>"
      ]
     },
     "metadata": {},
     "output_type": "display_data"
    }
   ],
   "source": [
    "# Start scripts\n",
    "sym.init_printing(use_unicode=True)\n",
    "\n",
    "# Set output file name\n",
    "output_filename = \"van_der_Pol_event.inp\"\n",
    "# Set constants\n",
    "input_const = r'\\epsilon, \\nu_{11}, \\nu_{22}'\n",
    "c = set_symbol_from_text(input_const)\n",
    "# Set variables\n",
    "input_var = r\"x_{1}, x_{2}\"\n",
    "x = set_symbol_from_text(input_var)\n",
    "# Set variables for initial positions\n",
    "input_var_c = r\"x_{1}^{\\mathrm{c}}, x_{2}^{\\mathrm{c}}\"\n",
    "xc = set_symbol_from_text(input_var_c)\n",
    "# Display inputs for check\n",
    "display('Defined constants')\n",
    "display(Math(sym.latex(c)))\n",
    "display('Defined variables')\n",
    "display(Math(sym.latex(x)))\n",
    "display('Defined constants for the initial positions')\n",
    "display(Math(sym.latex(xc)))\n",
    "# Add the list for 'xc' to the list 'c'\n",
    "c = c + xc"
   ]
  },
  {
   "cell_type": "code",
   "execution_count": 3,
   "metadata": {
    "tags": []
   },
   "outputs": [
    {
     "data": {
      "text/plain": [
       "'Original stochastic differential equations'"
      ]
     },
     "metadata": {},
     "output_type": "display_data"
    },
    {
     "data": {
      "text/latex": [
       "$\\displaystyle d x_{1}(t) = \\left(x_{2}\\right) dt + \\left(\\nu_{11}\\right) d W_1(t)$"
      ],
      "text/plain": [
       "<IPython.core.display.Math object>"
      ]
     },
     "metadata": {},
     "output_type": "display_data"
    },
    {
     "data": {
      "text/latex": [
       "$\\displaystyle d x_{2}(t) = \\left(\\epsilon x_{2} \\left(1 - x_{1}^{2}\\right) - x_{1}\\right) dt + \\left(\\nu_{22}\\right) d W_2(t)$"
      ],
      "text/plain": [
       "<IPython.core.display.Math object>"
      ]
     },
     "metadata": {},
     "output_type": "display_data"
    }
   ],
   "source": [
    "# Set equations\n",
    "# Variables, drift and diffusion coefficients must be enclosed in [].\n",
    "Eqs = []\n",
    "Eqs.append(r\"d[x_{1}] = [x_{2}]*dt + [\\nu_{11}]*d W_{1}\")\n",
    "Eqs.append(r\"d[x_{2}] =\" \\\n",
    "    + r\"[\\epsilon*(1-x_{1}**2)*x_{2} - x_{1}]*dt + [\\nu_{22}]*d W_{2}\")\n",
    "\n",
    "# Extract strings for drift and diffusion\n",
    "str_drift = []\n",
    "str_diff = []\n",
    "for eq in Eqs:\n",
    "    result = re.findall(r'\\[(.*?)\\]', eq)\n",
    "    if(len(result) != 3):\n",
    "        print(\"The format of equation is not adequate: {0}\".format(eq))\n",
    "        sys.exit(1)\n",
    "    str_drift.append(result[1])\n",
    "    str_diff.append(result[2])\n",
    "\n",
    "# Convert strings to sympy\n",
    "drift = []\n",
    "for ex in str_drift:\n",
    "    drift.append(eval(replace_text_with_symbol(ex,c,x)))\n",
    "drift = sym.Matrix(len(drift), 1, drift)\n",
    "diff_vector = []\n",
    "for ex in str_diff:\n",
    "    diff_vector.append(eval(replace_text_with_symbol(ex,c,x)))\n",
    "diff = []\n",
    "for i, variable in enumerate(x):\n",
    "    tmp_array = [0.0] * len(x)\n",
    "    tmp_array[i] = diff_vector[i]\n",
    "    diff.append(tmp_array)\n",
    "diff = sym.Matrix(diff)\n",
    "\n",
    "# Display input SDEs for check\n",
    "latex_bold_x = sym.Symbol('\\mathbf{x}')\n",
    "latex_bold_W = sym.Symbol('\\mathbf{W}')\n",
    "display('Original stochastic differential equations')\n",
    "for i in range(len(x)):\n",
    "    latex_W = sym.Symbol('W_{0}'.format(i+1))\n",
    "    print_sde = Math(r'd {0}(t) = \\left({1}\\right) dt + \\left({2}\\right) d {3}(t)'\\\n",
    "        .format(x[i], sym.latex(drift[i]), sym.latex(diff[i,i]), latex_W))\n",
    "    display(print_sde)"
   ]
  },
  {
   "cell_type": "code",
   "execution_count": 4,
   "metadata": {},
   "outputs": [
    {
     "data": {
      "text/plain": [
       "'Extended stochastic differential equations'"
      ]
     },
     "metadata": {},
     "output_type": "display_data"
    },
    {
     "data": {
      "text/latex": [
       "$\\displaystyle d\\mathbf{x}(t) = \\left[\\begin{matrix}x_{2}\\\\\\epsilon x_{2} \\left(1 - x_{1}^{2}\\right) - x_{1}\\end{matrix}\\right] dt + \\left[\\begin{matrix}\\nu_{11} & 0\\\\0 & \\nu_{22}\\end{matrix}\\right] d \\mathbf{W}(t)$"
      ],
      "text/plain": [
       "<IPython.core.display.Math object>"
      ]
     },
     "metadata": {},
     "output_type": "display_data"
    }
   ],
   "source": [
    "# Make sympy symbols for partial derivatives\n",
    "deriv = []\n",
    "for tmp_x in x:\n",
    "    deriv.append(sym.Symbol('\\\\partial_{{{0}}}'.format(tmp_x)))\n",
    "\n",
    "# Display the derived SDEs\n",
    "print_sde = Math(r'd{0}(t) = {1} dt + {2} d {3}(t)'\\\n",
    "    .format(latex_bold_x, sym.latex(drift), \n",
    "    sym.latex(diff), latex_bold_W))\n",
    "display('Extended stochastic differential equations')\n",
    "display(print_sde)"
   ]
  },
  {
   "cell_type": "code",
   "execution_count": 5,
   "metadata": {},
   "outputs": [
    {
     "data": {
      "text/plain": [
       "'Derived adjoint operator'"
      ]
     },
     "metadata": {},
     "output_type": "display_data"
    },
    {
     "data": {
      "text/latex": [
       "$\\displaystyle \\mathcal{L}^{\\dagger} = \\left(x_{2}\\right) \\partial_{x_{1}}+\\left(\\epsilon x_{2} \\left(1 - x_{1}^{2}\\right) - x_{1}\\right) \\partial_{x_{2}}+\\frac{1}{2}\\left(\\nu_{11}^{2}\\right) \\partial_{x_{1}}\\partial_{x_{1}}+\\frac{1}{2}\\left(\\nu_{22}^{2}\\right) \\partial_{x_{2}}\\partial_{x_{2}}$"
      ],
      "text/plain": [
       "<IPython.core.display.Math object>"
      ]
     },
     "metadata": {},
     "output_type": "display_data"
    }
   ],
   "source": [
    "# Make sympy symbols for partial derivatives\n",
    "deriv = []\n",
    "for tmp_x in x:\n",
    "    deriv.append(sym.Symbol('\\\\partial_{{{0}}}'.format(tmp_x)))\n",
    "\n",
    "# Derive the adjoint operator (backward Kolmogrov) and display it\n",
    "adj_L = 0\n",
    "B = diff * diff.transpose()\n",
    "\n",
    "deriv = sym.Matrix([deriv])\n",
    "latex_adj_L = sym.Symbol('\\mathcal{L}^{\\dagger}')\n",
    "print_adj_L = \"\"\n",
    "drift_terms = []\n",
    "drift_derivs = []\n",
    "for dri, der in zip(drift,deriv): # 1st order\n",
    "    drift_terms.append(dri)\n",
    "    drift_derivs.append(der)\n",
    "    adj_L = adj_L + dri*der\n",
    "    print_adj_L = print_adj_L \\\n",
    "        + '\\\\left({0}\\\\right) {1}'\\\n",
    "            .format(sym.latex(dri), sym.latex(der)) \\\n",
    "        + '+'\n",
    "diff_terms = []\n",
    "diff_derivs = []\n",
    "for i in range(len(x)): # 2nd order\n",
    "    for j in range(len(x)):\n",
    "        if B[len(x)*i+j] != 0: \n",
    "            diff_terms.append(0.5*B[len(x)*i+j])\n",
    "            diff_derivs.append(deriv[i]*deriv[j])\n",
    "            adj_L = adj_L + 0.5*B[len(x)*i+j]*deriv[i]*deriv[j]\n",
    "            print_adj_L = print_adj_L \\\n",
    "             + '\\\\frac{{1}}{{2}}\\\\left({0}\\\\right) {1}{2}'\\\n",
    "                  .format(sym.latex(B[len(x)*i+j]), \\\n",
    "                          sym.latex(deriv[i]), \\\n",
    "                           sym.latex(deriv[j])\n",
    "                          ) \\\n",
    "             + '+'\n",
    "print_adj_L = print_adj_L[:-1]  # Remove the final plus sign\n",
    "print_dual = Math(r'{0} = {1}'.format(latex_adj_L, print_adj_L))\n",
    "display('Derived adjoint operator')\n",
    "display(print_dual)\n"
   ]
  },
  {
   "cell_type": "code",
   "execution_count": 6,
   "metadata": {},
   "outputs": [
    {
     "data": {
      "text/plain": [
       "'Derived adjoint operator'"
      ]
     },
     "metadata": {},
     "output_type": "display_data"
    },
    {
     "data": {
      "text/latex": [
       "$\\displaystyle \\mathcal{L}^{\\dagger} = \\left(x_{2} + x_{2}^{\\mathrm{c}}\\right) \\partial_{x_{1}}+\\left(\\epsilon \\left(1 - \\left(x_{1} + x_{1}^{\\mathrm{c}}\\right)^{2}\\right) \\left(x_{2} + x_{2}^{\\mathrm{c}}\\right) - x_{1} - x_{1}^{\\mathrm{c}}\\right) \\partial_{x_{2}}+\\left(0.5 \\nu_{11}^{2}\\right) \\partial_{x_{1}}^{2}+\\left(0.5 \\nu_{22}^{2}\\right) \\partial_{x_{2}}^{2}$"
      ],
      "text/plain": [
       "<IPython.core.display.Math object>"
      ]
     },
     "metadata": {},
     "output_type": "display_data"
    }
   ],
   "source": [
    "# Apply variable transformations for coordinate shifts\n",
    "for i, v in enumerate(x):\n",
    "    for j, term in enumerate(drift_terms):\n",
    "        drift_terms[j] = drift_terms[j].subs(v, v+xc[i])\n",
    "    for j, term in enumerate(diff_terms):\n",
    "        diff_terms[j] = diff_terms[j].subs(v, v+xc[i])\n",
    "\n",
    "# Derive the adjoint operator (backward Kolmogrov) and display it\n",
    "adj_L = 0\n",
    "latex_adj_L = sym.Symbol('\\mathcal{L}^{\\dagger}')\n",
    "print_adj_L = \"\"\n",
    "for dri, der in zip(drift_terms,drift_derivs): # 1st order\n",
    "    adj_L = adj_L + dri*der\n",
    "    print_adj_L = print_adj_L \\\n",
    "        + '\\\\left({0}\\\\right) {1}'\\\n",
    "            .format(sym.latex(dri), sym.latex(der)) \\\n",
    "        + '+'\n",
    "for diff, der in zip(diff_terms,diff_derivs): # 2nd order\n",
    "    adj_L = adj_L + diff*der\n",
    "    print_adj_L = print_adj_L \\\n",
    "        + '\\\\left({0}\\\\right) {1}'\\\n",
    "            .format(sym.latex(diff), sym.latex(der)) \\\n",
    "        + '+'\n",
    "\n",
    "print_adj_L = print_adj_L[:-1]  # Remove the final plus sign\n",
    "print_dual = Math(r'{0} = {1}'.format(latex_adj_L, print_adj_L))\n",
    "display('Derived adjoint operator')\n",
    "display(print_dual)"
   ]
  },
  {
   "cell_type": "code",
   "execution_count": 7,
   "metadata": {},
   "outputs": [
    {
     "data": {
      "text/plain": [
       "'Defined constants (again)'"
      ]
     },
     "metadata": {},
     "output_type": "display_data"
    },
    {
     "data": {
      "text/latex": [
       "$\\displaystyle \\left[ \\epsilon, \\  \\nu_{11}, \\  \\nu_{22}, \\  x_{1}^{\\mathrm{c}}, \\  x_{2}^{\\mathrm{c}}\\right]$"
      ],
      "text/plain": [
       "<IPython.core.display.Math object>"
      ]
     },
     "metadata": {},
     "output_type": "display_data"
    }
   ],
   "source": [
    "# Display constants (again) for setting values\n",
    "display('Defined constants (again)')\n",
    "display(Math(sym.latex(c)))"
   ]
  },
  {
   "cell_type": "code",
   "execution_count": 8,
   "metadata": {
    "tags": []
   },
   "outputs": [
    {
     "name": "stdout",
     "output_type": "stream",
     "text": [
      "# #terms #terms_without_duplicate #x #const / Constants: [\\epsilon, \\nu_{11}, \\nu_{22}, x_{1}^{\\mathrm{c}}, x_{2}^{\\mathrm{c}}]\n",
      "14 10 2 5\n",
      "# [State changes] / rate / [Indices for rate] / [Indices for constants] # term\n",
      "[-2,0] / 0.5 / [2,0] / [0,2,0,0,0] # 0.5 \\nu_{11}^{2} \\partial_{x_{1}}^{2}\n",
      "[-1,0] / 1.0 / [1,0] / [0,0,0,0,1] # \\partial_{x_{1}} x_{2}^{\\mathrm{c}}\n",
      "[-1,1] / 1.0 / [1,0] / [0,0,0,0,0] # \\partial_{x_{1}} x_{2}\n",
      "[0,-2] / 0.5 / [0,2] / [0,0,2,0,0] # 0.5 \\nu_{22}^{2} \\partial_{x_{2}}^{2}\n",
      "[0,-1] / -1.0 / [0,1] / [0,0,0,1,0] # - \\partial_{x_{2}} x_{1}^{\\mathrm{c}}\n",
      "[0,-1] / -1.0 / [0,1] / [1,0,0,2,1] # - \\epsilon \\partial_{x_{2}} \\left(x_{1}^{\\mathrm{c}}\\right)^{2} x_{2}^{\\mathrm{c}}\n",
      "[0,-1] / 1.0 / [0,1] / [1,0,0,0,1] # \\epsilon \\partial_{x_{2}} x_{2}^{\\mathrm{c}}\n",
      "[0,0] / -1.0 / [0,1] / [1,0,0,2,0] # - \\epsilon \\partial_{x_{2}} \\left(x_{1}^{\\mathrm{c}}\\right)^{2} x_{2}\n",
      "[0,0] / 1.0 / [0,1] / [1,0,0,0,0] # \\epsilon \\partial_{x_{2}} x_{2}\n",
      "[1,-1] / -2.0 / [0,1] / [1,0,0,1,1] # - 2 \\epsilon \\partial_{x_{2}} x_{1} x_{1}^{\\mathrm{c}} x_{2}^{\\mathrm{c}}\n",
      "[1,-1] / -1.0 / [0,1] / [0,0,0,0,0] # - \\partial_{x_{2}} x_{1}\n",
      "[1,0] / -2.0 / [0,1] / [1,0,0,1,0] # - 2 \\epsilon \\partial_{x_{2}} x_{1} x_{1}^{\\mathrm{c}} x_{2}\n",
      "[2,-1] / -1.0 / [0,1] / [1,0,0,0,1] # - \\epsilon \\partial_{x_{2}} x_{1}^{2} x_{2}^{\\mathrm{c}}\n",
      "[2,0] / -1.0 / [0,1] / [1,0,0,0,0] # - \\epsilon \\partial_{x_{2}} x_{1}^{2} x_{2}\n",
      "\n"
     ]
    }
   ],
   "source": [
    "# Print degrees for each term\n",
    "adj_L = sym.expand(adj_L)\n",
    "variables = []\n",
    "variables.extend(x)\n",
    "variables.extend(deriv)\n",
    "variables.extend(c)\n",
    "zero_list = [0]*len(x)\n",
    "\n",
    "# Print terms (for check)\n",
    "output = \"# [State changes] / rate / [Indices for rate] / [Indices for constants] # term\\n\"\n",
    "result = []\n",
    "for t in adj_L.args:\n",
    "    degree_list = list(sym.degree_list(t, gens=variables))\n",
    "    change_list = []\n",
    "    coeff_list = []\n",
    "    const_list = []\n",
    "    for i in range(len(x)):\n",
    "        change_list.append(degree_list[i]-degree_list[i+len(x)])\n",
    "        coeff_list.append(degree_list[i+len(x)])\n",
    "    const_list = const_list + degree_list[2*len(x):]\n",
    "    is_constant = all(elem == 0 for elem in degree_list)\n",
    "    if is_constant == True:\n",
    "        result.append([change_list, float(t), coeff_list, const_list, sym.latex(t)])\n",
    "    else:\n",
    "        result.append([change_list, float(sym.LC(t)), coeff_list, const_list, sym.latex(t)])\n",
    "result = sorted(result)\n",
    "for item in result:\n",
    "    str0 = \"{0}\".format(item[0]).replace(' ', '')\n",
    "    str1 = \"{0}\".format(item[1])\n",
    "    str2 = \"{0}\".format(item[2]).replace(' ', '')\n",
    "    str3 = \"{0}\".format(item[3]).replace(' ', '')\n",
    "    str4 = \"{0}\".format(item[4])\n",
    "    output = output + \"{0} / {1} / {2} / {3} # {4}\\n\".format(str0, str1, str2, str3, str4)\n",
    "\n",
    "state_change_tmp = [item[0] for item in result]\n",
    "state_change = []\n",
    "[x for x in state_change_tmp if x not in state_change and not state_change.append(x)]\n",
    "\n",
    "# Add the basic information\n",
    "output = \"{0} {1} {2} {3}\\n\".format(len(adj_L.args), len(state_change), len(x), len(c)) + output\n",
    "output = \"# #terms #terms_without_duplicate #x #const / Constants: {0}\\n\".format(c) + output\n",
    "\n",
    "with open(output_filename, mode='w') as f:\n",
    "    f.write(output)\n",
    "\n",
    "# For check\n",
    "print(output)"
   ]
  },
  {
   "cell_type": "code",
   "execution_count": null,
   "metadata": {},
   "outputs": [],
   "source": []
  }
 ],
 "metadata": {
  "interpreter": {
   "hash": "1f3badd15024c32157114ba2220d2563bd5c52546c58b5347587a8ed5081412b"
  },
  "kernelspec": {
   "display_name": "Python 3.9.2 64-bit",
   "name": "python3"
  },
  "language_info": {
   "codemirror_mode": {
    "name": "ipython",
    "version": 3
   },
   "file_extension": ".py",
   "mimetype": "text/x-python",
   "name": "python",
   "nbconvert_exporter": "python",
   "pygments_lexer": "ipython3",
   "version": "3.9.9"
  },
  "metadata": {
   "interpreter": {
    "hash": "1f3badd15024c32157114ba2220d2563bd5c52546c58b5347587a8ed5081412b"
   }
  },
  "orig_nbformat": 2
 },
 "nbformat": 4,
 "nbformat_minor": 2
}
