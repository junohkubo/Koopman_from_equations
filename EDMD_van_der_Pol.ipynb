{
 "cells": [
  {
   "cell_type": "code",
   "execution_count": 1,
   "metadata": {
    "tags": []
   },
   "outputs": [],
   "source": [
    "import numpy as np\n",
    "from scipy import linalg\n",
    "import matplotlib.pyplot as plt"
   ]
  },
  {
   "cell_type": "code",
   "execution_count": 2,
   "metadata": {},
   "outputs": [
    {
     "data": {
      "text/plain": [
       "Text(0, 0.5, 'x')"
      ]
     },
     "execution_count": 2,
     "metadata": {},
     "output_type": "execute_result"
    },
    {
     "data": {
      "image/png": "[encoded data removed]",
      "text/plain": [
       "<Figure size 432x288 with 1 Axes>"
      ]
     },
     "metadata": {
      "needs_background": "light"
     },
     "output_type": "display_data"
    }
   ],
   "source": [
    "# Make sample paths and data sets\n",
    "Dt = 1.0e-3          # Delta t for Euler-Maruyama method\n",
    "Dt_obs = 1.0e-1      # Time-interval for snapshot pairs\n",
    "T = 5.0             # Final time for a sample path\n",
    "num_ensembles = 10\n",
    "\n",
    "# Set parameters\n",
    "dim = 2\n",
    "epsilon = 1.0\n",
    "nu11 = 0.5\n",
    "nu22 = 0.5\n",
    "\n",
    "# Set function for the drift and diffusion terms\n",
    "def drift(x, t):\n",
    "    f1 = x[1]\n",
    "    f2 = epsilon*x[1]*(1.0-x[0]*x[0]) - x[0]\n",
    "    return np.array([f1,f2])\n",
    "def diff(x, t):\n",
    "    s1 = nu11\n",
    "    s2 = nu22\n",
    "    return np.array([s1,s2])\n",
    "\n",
    "# Perform Monte Carlo simulations\n",
    "np.random.seed(3633914)\n",
    "X = [] # 1st data matrix for EDMD\n",
    "Y = [] # 2nd data matrix for EDMD\n",
    "time_array = np.arange(0, T+Dt, Dt)\n",
    "obs_time_array = np.arange(0, T+Dt_obs, Dt_obs)\n",
    "for s in range(num_ensembles):\n",
    "    x = np.zeros(dim)\n",
    "    dW = np.random.normal(scale=np.sqrt(Dt), size=(len(time_array)-1, dim))\n",
    "    x = np.random.uniform(low=-1.0, high=1.0, size=(dim))\n",
    "    obs_t = 0.0\n",
    "    result = []\n",
    "    for i, t in enumerate(time_array[:-1]):\n",
    "        x = x + drift(x,t)*Dt + diff(x,t)*dW[i]\n",
    "        if t+Dt >= (obs_t-1.0e-6):\n",
    "            obs_t = obs_t + Dt_obs\n",
    "            result.append(x)\n",
    "    X.extend(result[:-1])\n",
    "    Y.extend(result[1:])\n",
    "X = np.array(X)\n",
    "Y = np.array(Y)\n",
    "\n",
    "# Plot the final time-series data (for check)\n",
    "result = np.array(result)\n",
    "plt.grid()\n",
    "plt.plot(obs_time_array, result)\n",
    "plt.xlabel('t')\n",
    "plt.ylabel('x')"
   ]
  },
  {
   "cell_type": "code",
   "execution_count": 3,
   "metadata": {},
   "outputs": [],
   "source": [
    "# Define subroutines for the monomial dictionary\n",
    "def make_monomial_powers(dim, max_order):\n",
    "    max_orders = max_order * np.ones(dim, dtype=\"int8\") + 1\n",
    "    max_orders = max_orders.tolist()\n",
    "    rev_max_orders = list(max_orders)\n",
    "    rev_max_orders.reverse()\n",
    "    rev_max_orders_cumprod = np.cumprod(rev_max_orders)\n",
    "    total_states = rev_max_orders_cumprod[-1]\n",
    "    rev_max_orders_cumprod = rev_max_orders_cumprod[:-1]\n",
    "    def calc_index2degree(i):\n",
    "        n = []\n",
    "        val = i\n",
    "        for cumprod in reversed(rev_max_orders_cumprod):\n",
    "            q, mod = divmod(val, cumprod)\n",
    "            n.append(q)\n",
    "            val = mod\n",
    "        n.append(val)\n",
    "        return(n)\n",
    "    comp = []\n",
    "    for i in range(total_states):\n",
    "        comp.append(calc_index2degree(i))\n",
    "    comp = np.array(comp)\n",
    "    # remove elements over the max_degree\n",
    "    comp = comp[comp.sum(axis=1) <= max_order]\n",
    "    # sort\n",
    "    for_sort = comp.sum(axis=1)\n",
    "    comp = comp[np.argsort(for_sort)]\n",
    "    return comp\n",
    "\n",
    "class monomials(object):\n",
    "    def __init__(self, max_order):\n",
    "        self.max_order = max_order\n",
    "\n",
    "    def __call__(self, x):\n",
    "        d = x.shape[0]\n",
    "        list_exponent = make_monomial_powers(d, self.max_order)\n",
    "        result_powers = np.power(x, list_exponent)\n",
    "        vec_psi = np.prod(result_powers, axis=1)\n",
    "        return vec_psi[:,np.newaxis]"
   ]
  },
  {
   "cell_type": "code",
   "execution_count": 4,
   "metadata": {},
   "outputs": [
    {
     "name": "stdout",
     "output_type": "stream",
     "text": [
      "[[0 0]\n",
      " [0 1]\n",
      " [1 0]\n",
      " [0 2]\n",
      " [1 1]\n",
      " [2 0]\n",
      " [0 3]\n",
      " [1 2]\n",
      " [2 1]\n",
      " [3 0]\n",
      " [0 4]\n",
      " [4 0]\n",
      " [1 3]\n",
      " [2 2]\n",
      " [3 1]\n",
      " [3 2]\n",
      " [1 4]\n",
      " [4 1]\n",
      " [0 5]\n",
      " [2 3]\n",
      " [5 0]]\n"
     ]
    }
   ],
   "source": [
    "# For check\n",
    "list_exponent = make_monomial_powers(x.shape[0], 5)\n",
    "print(list_exponent)"
   ]
  },
  {
   "cell_type": "code",
   "execution_count": 5,
   "metadata": {},
   "outputs": [],
   "source": [
    "# Define the main routine for the EDMD\n",
    "def edmd(X, Y, psi):\n",
    "    '''\n",
    "    EDMD algorithm. The inputs are the matricies X and Y for the snapshot pairs.\n",
    "    \n",
    "    :param psi:      Basis functions, which will be given as a class object.\n",
    "    :return:         Koopman matrix K.\n",
    "    '''\n",
    "    m = psi(X[0]).shape[0]\n",
    "    A = np.zeros([m,m])\n",
    "    G = np.zeros([m,m])\n",
    "    for x, y in zip(X, Y):\n",
    "        psi_x = psi(x)\n",
    "        psi_y = psi(y)\n",
    "        A = A + psi_y @ psi_x.T\n",
    "        G = G + psi_x @ psi_x.T\n",
    "    K = A @ linalg.pinv(G)\n",
    "    return K"
   ]
  },
  {
   "cell_type": "code",
   "execution_count": 6,
   "metadata": {},
   "outputs": [
    {
     "name": "stdout",
     "output_type": "stream",
     "text": [
      "+1.00000000000003e+00 +5.27180623827654e-13 -5.58425839541814e-14 -4.77883423992689e-14 -1.71689697328406e-13 +1.55931515126902e-14 \n",
      "+1.09031630038635e-02 +1.04255106268341e+00 -1.23862656362419e-01 +4.59598646622961e-03 +7.52539318537529e-03 -1.42449687885200e-02 \n",
      "+2.52043289112318e-02 +1.73164658718394e-01 +9.75414116329335e-01 -2.77807058525071e-02 +6.57122618887072e-02 -4.11667848873710e-02 \n",
      "+1.90858739505937e-02 +7.95047401529063e-02 +7.08045982868001e-02 +1.15881152448504e+00 -2.74993243538220e-01 +3.03740929940490e-02 \n",
      "+3.33778092522539e-02 +6.77654294443713e-02 -2.15228889729603e-02 +6.63143515201458e-02 +1.13933932119824e+00 -1.45124259369094e-01 \n",
      "-4.77576135761718e-03 +2.83838088426397e-02 -1.28544590408603e-01 +3.65220400037090e-02 +2.50108817778501e-01 +1.10860281845803e+00 \n",
      "\n"
     ]
    }
   ],
   "source": [
    "# Evaluate the Koopman matrix and output it\n",
    "max_order_of_monomials = 5\n",
    "K = edmd(X, Y, psi=monomials(max_order_of_monomials))\n",
    "\n",
    "output_filename = \"Koopman_matrix_for_van_der_Pol.dat\"\n",
    "maximum_output = 6\n",
    "output = \"\"\n",
    "for i in range(maximum_output):\n",
    "    output_line = \"\"\n",
    "    for j in range(maximum_output):\n",
    "        output_line = output_line + \"{0:+.14e} \".format(K[i,j])\n",
    "    output = output + output_line + \"\\n\"\n",
    "\n",
    "with open(output_filename, mode='w') as f:\n",
    "    f.write(output)\n",
    "\n",
    "# for check\n",
    "print(output)"
   ]
  },
  {
   "cell_type": "code",
   "execution_count": 7,
   "metadata": {},
   "outputs": [
    {
     "name": "stdout",
     "output_type": "stream",
     "text": [
      "State: [1.340798637337331, -0.332110067670004]\n",
      "[next x1]\n",
      "Koopman: -4.631385002177e-01\n",
      "MC     : -4.344319935240e-01 +/- 1.860216264823e-02\n",
      "[next x2]\n",
      "Koopman: +1.294938751747e+00\n",
      "MC     : +1.298248740936e+00 +/- 1.013011836663e-02\n",
      "[next x1^2]\n",
      "Koopman: +2.812280026228e-01\n",
      "MC     : +2.121557759573e-01 +/- 1.510429539573e-02\n",
      "[next x1 x2]\n",
      "Koopman: -5.951708016806e-01\n",
      "MC     : -5.629765064464e-01 +/- 2.612543695482e-02\n",
      "[next x2^2]\n",
      "Koopman: +1.763646450874e+00\n",
      "MC     : +1.710475198036e+00 +/- 2.742130940703e-02\n"
     ]
    }
   ],
   "source": [
    "# Perform Monte Carlo simulations for check\n",
    "data_num = 25\n",
    "psi = monomials(max_order_of_monomials)\n",
    "print(\"State: [{0}, {1}]\".format(X[data_num,0],X[data_num,1]))\n",
    "MC_result = []\n",
    "num_samples = 100\n",
    "num_ensembles = 10\n",
    "time_array = np.arange(0, Dt_obs, Dt)\n",
    "for s in range(num_ensembles):\n",
    "    y_stat = []\n",
    "    for n in range(num_samples):\n",
    "        dW = np.random.normal(scale=np.sqrt(Dt), size=(len(time_array), dim))\n",
    "        x = X[data_num]\n",
    "        for i, t in enumerate(time_array):\n",
    "            x = x + drift(x,t)*Dt + diff(x,t)*dW[i]\n",
    "        y_stat.append(psi(x)[1:6].T)\n",
    "    MC_result.append(np.mean(y_stat, axis=0)[0])\n",
    "MC_result = np.array(MC_result)\n",
    "MC_mean = np.mean(MC_result, axis=0)\n",
    "MC_std = np.std(MC_result, axis=0)\n",
    "\n",
    "# Evaluate the statistics with the Koopman matrix\n",
    "psi_x = psi(X[data_num])\n",
    "K_result = K @ psi_x\n",
    "\n",
    "print(\"[next x1]\")\n",
    "print(\"Koopman: {0:+.12e}\".format(K_result[1,0]))\n",
    "print(\"MC     : {0:+.12e} +/- {1:.12e}\".format(MC_mean[0], MC_std[0]))\n",
    "print(\"[next x2]\")\n",
    "print(\"Koopman: {0:+.12e}\".format(K_result[2,0]))\n",
    "print(\"MC     : {0:+.12e} +/- {1:.12e}\".format(MC_mean[1], MC_std[1]))\n",
    "print(\"[next x1^2]\")\n",
    "print(\"Koopman: {0:+.12e}\".format(K_result[3,0]))\n",
    "print(\"MC     : {0:+.12e} +/- {1:.12e}\".format(MC_mean[2], MC_std[2]))\n",
    "print(\"[next x1 x2]\")\n",
    "print(\"Koopman: {0:+.12e}\".format(K_result[4,0]))\n",
    "print(\"MC     : {0:+.12e} +/- {1:.12e}\".format(MC_mean[3], MC_std[3]))\n",
    "print(\"[next x2^2]\")\n",
    "print(\"Koopman: {0:+.12e}\".format(K_result[5,0]))\n",
    "print(\"MC     : {0:+.12e} +/- {1:.12e}\".format(MC_mean[4], MC_std[4]))"
   ]
  }
 ],
 "metadata": {
  "interpreter": {
   "hash": "1f3badd15024c32157114ba2220d2563bd5c52546c58b5347587a8ed5081412b"
  },
  "kernelspec": {
   "display_name": "Python 3.9.2 64-bit",
   "name": "python3"
  },
  "language_info": {
   "codemirror_mode": {
    "name": "ipython",
    "version": 3
   },
   "file_extension": ".py",
   "mimetype": "text/x-python",
   "name": "python",
   "nbconvert_exporter": "python",
   "pygments_lexer": "ipython3",
   "version": "3.9.9"
  },
  "metadata": {
   "interpreter": {
    "hash": "1f3badd15024c32157114ba2220d2563bd5c52546c58b5347587a8ed5081412b"
   }
  },
  "orig_nbformat": 2
 },
 "nbformat": 4,
 "nbformat_minor": 2
}
